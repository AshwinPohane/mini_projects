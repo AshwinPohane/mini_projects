{
 "cells": [
  {
   "cell_type": "markdown",
   "id": "928fce9b",
   "metadata": {},
   "source": [
    "# Generate Authentication Code with QRCODE"
   ]
  },
  {
   "cell_type": "code",
   "execution_count": 79,
   "id": "59617cee",
   "metadata": {},
   "outputs": [
    {
     "name": "stdout",
     "output_type": "stream",
     "text": [
      "Program Interrupted\n"
     ]
    }
   ],
   "source": [
    "import time\n",
    "import random\n",
    "from IPython.display import clear_output\n",
    "import qrcode\n",
    "import matplotlib.pyplot as plt\n",
    "import matplotlib.image as mpimg\n",
    "\n",
    "try:\n",
    "    def authentication(time_in_sec):\n",
    "        clear_output(wait=True)\n",
    "        print('Your Authentication Code')\n",
    "        u = random.randrange(0,10)\n",
    "        v = random.randrange(0,10)\n",
    "        w = random.randrange(0,10)\n",
    "        x = random.randrange(0,10)\n",
    "        y = random.randrange(0,10)\n",
    "        z = random.randrange(0,10)\n",
    "        auth = f'{u}{v}{w} {x}{y}{z}'\n",
    "        \n",
    "        # make qrcode\n",
    "        qr = qrcode.make(auth)\n",
    "        qr.save('qr_image.jpg')\n",
    "        \n",
    "        # show qrcode\n",
    "        img = mpimg.imread('qr_image.jpg',)\n",
    "        plt.imshow(img, cmap='Greys_r')\n",
    "        plt.xticks([])\n",
    "        plt.yticks([])\n",
    "        plt.show()\n",
    "        \n",
    "        # print authentication codes\n",
    "        print(auth,end='\\n')\n",
    "\n",
    "        while time_in_sec>=0:\n",
    "            minute = time_in_sec // 60\n",
    "            seconds = time_in_sec % 60\n",
    "            countdown = '{:02d}:{:02d}'.format(minute,seconds)\n",
    "            print(countdown, end='\\r')\n",
    "            time.sleep(1)\n",
    "            time_in_sec-=1\n",
    "        return authentication(time_in_sec=5)\n",
    "    authentication(5)\n",
    "except:\n",
    "    clear_output(wait=True)\n",
    "    print('Program Interrupted')\n",
    "\n"
   ]
  },
  {
   "cell_type": "code",
   "execution_count": null,
   "id": "11509c19",
   "metadata": {},
   "outputs": [],
   "source": []
  }
 ],
 "metadata": {
  "kernelspec": {
   "display_name": "Python 3 (ipykernel)",
   "language": "python",
   "name": "python3"
  },
  "language_info": {
   "codemirror_mode": {
    "name": "ipython",
    "version": 3
   },
   "file_extension": ".py",
   "mimetype": "text/x-python",
   "name": "python",
   "nbconvert_exporter": "python",
   "pygments_lexer": "ipython3",
   "version": "3.9.7"
  }
 },
 "nbformat": 4,
 "nbformat_minor": 5
}
